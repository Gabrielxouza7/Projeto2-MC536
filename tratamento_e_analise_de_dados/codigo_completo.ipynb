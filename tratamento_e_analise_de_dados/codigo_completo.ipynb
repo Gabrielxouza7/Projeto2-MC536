{
 "cells": [
  {
   "cell_type": "code",
   "execution_count": 1,
   "id": "c1c6ca46-3c93-4c80-99ce-b77a86e65c7e",
   "metadata": {},
   "outputs": [],
   "source": [
    "import pandas as pd\n",
    "from io import StringIO"
   ]
  },
  {
   "cell_type": "markdown",
   "id": "364e50c7-7401-4b60-8714-da256275121e",
   "metadata": {},
   "source": [
    "# 📂 Abrindo os CSVs importados da internet\n"
   ]
  },
  {
   "cell_type": "code",
   "execution_count": 2,
   "id": "c83c1de3-92a2-44ae-b527-cbfd52474e56",
   "metadata": {},
   "outputs": [],
   "source": [
    "df = pd.read_csv(\"../datasets/dados_abertos_rios___limpos(1).csv\", sep=';')"
   ]
  },
  {
   "cell_type": "code",
   "execution_count": 3,
   "id": "f77524e8-a720-4eb2-954b-6ee448e0ef9e",
   "metadata": {},
   "outputs": [],
   "source": [
    "df2 = pd.read_csv(\"../datasets/cnuc_2022_01sem.csv\", encoding_errors='ignore', on_bad_lines='skip', sep=';')"
   ]
  },
  {
   "cell_type": "markdown",
   "id": "7b30be73-091a-477c-9b3f-71cf5c724dbf",
   "metadata": {},
   "source": [
    "# 🧩  Selecionando as colunas que serão utilizadas na análise"
   ]
  },
  {
   "cell_type": "code",
   "execution_count": 4,
   "id": "9a3a52b1-fd51-4b32-bc51-ecabb79d55a0",
   "metadata": {},
   "outputs": [],
   "source": [
    "df = df[\n",
    "    [\n",
    "        # Informações gerais\n",
    "        \"Data do mutirão\",\n",
    "        \"Horário de início\",\n",
    "        \"Ambiente \",\n",
    "        \"Estado\",\n",
    "        \"Cidade\",\n",
    "        \"Nome do local (exemplo: praia de boa viagem)\",\n",
    "        \"Bairro ou distrito\",\n",
    "        \"Instituição Organizadora\",\n",
    "        \"Caráter da instituição\",\n",
    "        \"Número aproximado de participantes (total)\",\n",
    "        \"Duração total (coleta + triagem)\",\n",
    "        \"Peso total dos resíduos (kg)\",\n",
    "        \"Quantidade total de itens coletados\",\n",
    "\n",
    "        # Plástico\n",
    "        \"Plástico (total)\",\n",
    "        \"1. Fragmentos de plástico (maiores que 2,5 cm).\",\n",
    "        \"2. Brinquedos\",\n",
    "        \"3. Canudos\",\n",
    "        \"4. Copos/talheres/pratos\",\n",
    "        \"5. Embalagens de alimento\",\n",
    "        \"6. Escovas de dente\",\n",
    "        \"7. Esponjas/espumas\",\n",
    "        \"8. Galões\",\n",
    "        \"9. Garrafas PET\",\n",
    "        \"10. Hastes de cotonete/pirulito\",\n",
    "        \"11. Isqueiros\",\n",
    "        \"12. Pedaços de isopor (maiores que 2,5 cm)\",\n",
    "        \"13. Pinos de plástico\",\n",
    "        \"14. Sacos e sacolas\",\n",
    "        \"15. Tampas/lacres/argolas de garrafa\",\n",
    "        \"16. Outros (descreva)\",\n",
    "\n",
    "        # Borracha\n",
    "        \"Borracha (total)\",\n",
    "        \"1. Balões e bexigas\",\n",
    "        \"2. Câmaras de ar\",\n",
    "        \"3. Chinelos/sandálias\",\n",
    "        \"4. Luvas\",\n",
    "        \"5. Pneus\",\n",
    "        \"6. Preservativos (camisinha)\",\n",
    "        \"7. Outros (descreva)\",\n",
    "\n",
    "        # Madeira\n",
    "        \"Madeira (total)\",\n",
    "        \"1. Espetos/varas\",\n",
    "        \"2. Fósforos\",\n",
    "        \"3. Palitos de dente\",\n",
    "        \"4. Palitos de sorvete/picolé\",\n",
    "        \"5. Pedaços de madeira\",\n",
    "        \"6. Outros (descreva)\",\n",
    "\n",
    "        # Produtos têxteis\n",
    "        \"Produtos têxteis (total)\",\n",
    "        \"1. Aviamentos (linhas/barbantes)\",\n",
    "        \"2. Calçados (sapatos, tênis)\",\n",
    "        \"3. Roupas e pedaços de tecido\",\n",
    "        \"4. Outros (descreva)\",\n",
    "\n",
    "        # Papel\n",
    "        \"Papel (total)\",\n",
    "        \"1. Caixas de leite/suco, etc\",\n",
    "        \"2. Embalagens de cigarro\",\n",
    "        \"3. Embalagens de papel\",\n",
    "        \"4. Jornais/panfletos/revistas/livros\",\n",
    "        \"5. Papelão\",\n",
    "        \"6. Pedaços de papel/guardanapos\",\n",
    "        \"7. Outros (Descreva)2\",\n",
    "\n",
    "        # Metal\n",
    "        \"Metal (total)\",\n",
    "        \"1. Anéis de lacre de latas de bebidas\",\n",
    "        \"2. Latas de bebidas\",\n",
    "        \"3. Latas (comida, desodorante, óleo, tinta, etc.)\",\n",
    "        \"4. Pedaços de metal\",\n",
    "        \"5. Tampas de metal\",\n",
    "        \"6. Outros (descreva)2\",\n",
    "\n",
    "        # Vidro\n",
    "        \"Vidro (total)\",\n",
    "        \"1. Copos/xícaras/pratos\",\n",
    "        \"2. Garrafas\",\n",
    "        \"3. Lâmpadas\",\n",
    "        \"4. Pedaços de cerâmica\",\n",
    "        \"5. Pedaços de vidro\",\n",
    "        \"6. Potes de vidro ou cerâmica\",\n",
    "        \"7. Outros (descreva)3\",\n",
    "\n",
    "        # Materiais de Pesca\n",
    "        \"Materiais de Pesca (total)\",\n",
    "        \"1. Anzóis\",\n",
    "        \"2. Boias\",\n",
    "        \"3. Linhas de pesca\",\n",
    "        \"4. Pedaços de corda\",\n",
    "        \"5. Redes/pedaços de rede\",\n",
    "        \"6. Outros (descreva)5\",\n",
    "\n",
    "        # Outros resíduos\n",
    "        \"Outros Resíduos (total)\",\n",
    "        \"1. Bitucas/guimbas/filtros de cigarro\",\n",
    "        \"2. Cera de vela/parafina\",\n",
    "        \"3. Eletroeletrônicos (TV, celular, computador, etc.)\",\n",
    "        \"4. Entulhos/material de construção\",\n",
    "        \"5. Fraldas e absorventes\",\n",
    "        \"6. Seringas\",\n",
    "        \"7. Outros (descreva)6\",\n",
    "\n",
    "        # Animais\n",
    "        \"Animais\",\n",
    "        \"Animais Vivos\",\n",
    "        \"Animais Mortos\",\n",
    "    ]\n",
    "]\n",
    "\n",
    "\n",
    "df.loc[0, 'Instituição Organizadora'] = 'Greenpeace Poa'"
   ]
  },
  {
   "cell_type": "code",
   "execution_count": 5,
   "id": "9fc6b740-21d1-4964-98fe-c0294e329d12",
   "metadata": {},
   "outputs": [],
   "source": [
    "df2 = df2.rename(columns={'Cdigo UC':'Codigo UC',\n",
    "                        'Informaes Gerais':'Informacoes Gerais',\n",
    "                        'Ano de Criao':'Ano de Criacao',\n",
    "                        'rgo Gestor':'Orgao Gestor',\n",
    "                        'rea soma biomas':'Area soma biomas',\n",
    "                        'rea soma Biomas Continental':'Area soma biomas continentais',\n",
    "                        'Bioma rea (ha)':'Bioma area (ha)',\n",
    "                        'Amaznia':'Amazonia',\n",
    "                        'Mata Atlntica':'Mata Atlantica',\n",
    "                        'rea Marinha':'Area Marinha',\n",
    "                        'Municpio Costeiro':'Municipio Costeiro',\n",
    "                        'Municpio Costeiro + rea Marinha':'Municipio Costeiro + Area Marinha',\n",
    "                        'Municpios Abrangidos': 'Cidade', 'UF': 'Estado'})\n",
    "\n",
    "df2 = df2[\n",
    "    [\n",
    "        # Identificação\n",
    "        'ID_UC',\n",
    "        'Codigo UC',\n",
    "        'Informacoes Gerais',\n",
    "        'Nome da UC',\n",
    "        'Ano de Criacao',\n",
    "\n",
    "        # Localização\n",
    "        'Cidade',\n",
    "        'Estado',\n",
    "\n",
    "        # Administração\n",
    "        'Esfera Administrativa',\n",
    "        'Categoria de Manejo',\n",
    "        'Categoria IUCN',\n",
    "        'Orgao Gestor',\n",
    "        'Plano de Manejo',\n",
    "        'Conselho Gestor',\n",
    "\n",
    "        # Área e Bioma\n",
    "        'Area soma biomas',\n",
    "        'Area soma biomas continentais',\n",
    "        'Area Marinha',\n",
    "        'Bioma declarado', \n",
    "\n",
    "        # Outras características\n",
    "        'Grupo',\n",
    "        'Mar Territorial',\n",
    "        'Municipio Costeiro',\n",
    "        'Municipio Costeiro + Area Marinha',\n",
    "        'Reserva da Biosfera'\n",
    "    ]\n",
    "]\n",
    "\n",
    "df2['Cidade'] = df2['Cidade'].str.split(', ')\n",
    "df2 = df2.explode('Cidade')\n",
    "df2['Cidade'] = df2['Cidade'].str.replace(r'\\([A-Z]{2}\\)','', regex=True).str.strip()\n",
    "df2['Estado'] = df2['Estado'].str.split(', ')\n",
    "df2 = df2.explode('Estado')\n"
   ]
  },
  {
   "cell_type": "markdown",
   "id": "b8987868-9c47-4239-897a-2acd7e5e1bee",
   "metadata": {},
   "source": [
    "# Tratamento e preparação dos DataFrames para a inserção no banco de dados"
   ]
  },
  {
   "cell_type": "markdown",
   "id": "b0d7d906-c95f-42a5-bcc8-b563260a01e6",
   "metadata": {},
   "source": [
    "### Tabela Instituição Organizadora"
   ]
  },
  {
   "cell_type": "code",
   "execution_count": 6,
   "id": "a321fd52-d046-4791-b449-7393bfa69c4c",
   "metadata": {},
   "outputs": [],
   "source": [
    "colunas = ['Instituição Organizadora', 'Caráter da instituição']\n",
    "\n",
    "# Remove duplicatas e reinicia índice\n",
    "df_instituicao_organizadora = df[colunas].drop_duplicates('Instituição Organizadora').reset_index(drop=True)\n",
    "\n",
    "# Adiciona coluna de ID\n",
    "df_instituicao_organizadora.insert(0, 'id_instituicao_organizadora', range(1, len(df_instituicao_organizadora) + 1))"
   ]
  },
  {
   "cell_type": "markdown",
   "id": "8c7e7d0e-5934-40fc-b62d-1b087a57ef73",
   "metadata": {},
   "source": [
    "### Tabela Município"
   ]
  },
  {
   "cell_type": "code",
   "execution_count": 7,
   "id": "d1f1bda1-b434-46c7-af55-12c674305ed9",
   "metadata": {},
   "outputs": [],
   "source": [
    "colunas_municipio = ['Cidade', 'Estado']\n",
    "\n",
    "# Concatena e remove duplicatas\n",
    "df_municipio = pd.concat([df[colunas_municipio], df2[colunas_municipio]])\n",
    "df_municipio['Cidade'] = df_municipio['Cidade'].str.replace(r'\\([A-Z]{2}\\)', '', regex=True).str.strip()\n",
    "\n",
    "# Remove duplicatas pela cidade e reinicia o índice\n",
    "df_municipio = df_municipio.drop_duplicates('Cidade').reset_index(drop=True)\n",
    "\n",
    "# Insere coluna de ID no início\n",
    "df_municipio.insert(0, 'id_municipio', range(1, len(df_municipio) + 1))\n"
   ]
  },
  {
   "cell_type": "markdown",
   "id": "2e26f5b5-d960-4040-b99a-677b38d1b5ea",
   "metadata": {},
   "source": [
    "### Tabela Mutirão de Limpeza"
   ]
  },
  {
   "cell_type": "code",
   "execution_count": 8,
   "id": "1178b750-9c03-4acc-9e9d-56de0ecfc1cc",
   "metadata": {},
   "outputs": [],
   "source": [
    "df_mutirao = df[[\n",
    "    'Data do mutirão',\n",
    "    'Horário de início',\n",
    "    'Número aproximado de participantes (total)',\n",
    "    'Duração total (coleta + triagem)',\n",
    "    'Cidade',\n",
    "    'Instituição Organizadora', \n",
    "    'Nome do local (exemplo: praia de boa viagem)' ,\n",
    "    'Plástico (total)',\n",
    "    'Borracha (total)',\n",
    "    'Madeira (total)',\n",
    "    'Produtos têxteis (total)',\n",
    "    'Papel (total)',\n",
    "    'Metal (total)',\n",
    "    'Vidro (total)',\n",
    "    'Materiais de Pesca (total)',\n",
    "    'Outros Resíduos (total)'\n",
    "]].copy()\n",
    "df_mutirao.insert(0, 'id_mutirao', range(1, len(df_mutirao) + 1))\n",
    "\n",
    "# Faz os merges encadeados\n",
    "df_mutirao = (\n",
    "    df_mutirao\n",
    "    .merge(df_municipio[['id_municipio', 'Cidade']], on='Cidade', how='inner')\n",
    "    .merge(df_instituicao_organizadora[['id_instituicao_organizadora', 'Instituição Organizadora']], on='Instituição Organizadora', how='inner')\n",
    ")\n",
    "\n",
    "# Seleciona e reordena as colunas finais\n",
    "df_mutirao = df_mutirao[[\n",
    "    'id_mutirao',\n",
    "    'Data do mutirão',\n",
    "    'Horário de início',\n",
    "    'Número aproximado de participantes (total)',\n",
    "    'Duração total (coleta + triagem)',\n",
    "    'Nome do local (exemplo: praia de boa viagem)' ,\n",
    "    'Plástico (total)',\n",
    "    'Borracha (total)',\n",
    "    'Madeira (total)',\n",
    "    'Produtos têxteis (total)',\n",
    "    'Papel (total)',\n",
    "    'Metal (total)',\n",
    "    'Vidro (total)',\n",
    "    'Materiais de Pesca (total)',\n",
    "    'Outros Resíduos (total)',\n",
    "    'id_municipio',\n",
    "    'id_instituicao_organizadora'\n",
    "]]"
   ]
  },
  {
   "cell_type": "markdown",
   "id": "de8be78b-de79-49de-ad95-4842d53149bc",
   "metadata": {},
   "source": [
    "### Tabela Esfera Administrativa"
   ]
  },
  {
   "cell_type": "code",
   "execution_count": 9,
   "id": "b21bb446-9fc2-4b7b-ab4a-62b7104fb515",
   "metadata": {},
   "outputs": [],
   "source": [
    "# Seleciona a coluna relevante, remove duplicados e adiciona o ID\n",
    "df_esfera = df2[['Esfera Administrativa']].drop_duplicates().reset_index(drop=True)\n",
    "df_esfera.insert(0, 'id_esfera', range(1, len(df_esfera) + 1))"
   ]
  },
  {
   "cell_type": "markdown",
   "id": "46078939-a892-4445-aed2-aa838099abd3",
   "metadata": {},
   "source": [
    "### Tabela Categoria Manejo"
   ]
  },
  {
   "cell_type": "code",
   "execution_count": 10,
   "id": "55fb8f60-d4eb-40a2-82d9-5fac8b24f3a6",
   "metadata": {},
   "outputs": [],
   "source": [
    "# Seleciona as colunas relevantes, remove duplicados e adiciona o ID\n",
    "df_manejo = df2[['Categoria de Manejo', 'Categoria IUCN', 'Plano de Manejo']].drop_duplicates(subset='Categoria de Manejo').reset_index(drop=True)\n",
    "\n",
    "# Adiciona a coluna 'id_manejo' no início\n",
    "df_manejo.insert(0, 'id_manejo', range(1, len(df_manejo) + 1))"
   ]
  },
  {
   "cell_type": "markdown",
   "id": "a7c9abf9-9ebc-4752-885d-b812b71e5040",
   "metadata": {},
   "source": [
    "### Tabela Bioma"
   ]
  },
  {
   "cell_type": "code",
   "execution_count": 11,
   "id": "1e7db6ba-a2f6-47ce-b3c9-39cd035a4ea8",
   "metadata": {},
   "outputs": [],
   "source": [
    "# Seleciona as colunas relevantes, remove duplicados e adiciona o ID\n",
    "df_bioma = df2[['Bioma declarado']].drop_duplicates(subset='Bioma declarado').reset_index(drop=True)\n",
    "\n",
    "# Adiciona a coluna 'id_bioma' no início\n",
    "df_bioma.insert(0, 'id_bioma', range(1, len(df_bioma) + 1))"
   ]
  },
  {
   "cell_type": "markdown",
   "id": "ede86f6b-7fc7-4c51-a05c-ca1c4cb3e4c9",
   "metadata": {},
   "source": [
    "### Tabela Unidade de Conservação"
   ]
  },
  {
   "cell_type": "code",
   "execution_count": 12,
   "id": "536aeb22-d93b-4f0d-9254-d5a29c24c874",
   "metadata": {
    "scrolled": true
   },
   "outputs": [],
   "source": [
    "# Seleciona as colunas relevantes e remove duplicados baseados em 'Nome da UC'\n",
    "df_uc = df2[['Nome da UC', 'Ano de Criacao', 'Esfera Administrativa',\n",
    "             'Area soma biomas', 'Area soma biomas continentais',\n",
    "             'Area Marinha', 'Bioma declarado', 'Cidade', 'Categoria de Manejo']].drop_duplicates('Nome da UC')\n",
    "\n",
    "# Adiciona o ID da UC\n",
    "df_uc.insert(0, 'id_uc', range(1, len(df_uc) + 1))\n",
    "\n",
    "# Realiza os merges\n",
    "df_uc = (df_uc\n",
    "         .merge(df_bioma, on='Bioma declarado', how='inner')\n",
    "         .merge(df_municipio, on='Cidade', how='inner')\n",
    "         .merge(df_manejo, on='Categoria de Manejo', how='inner')\n",
    "         .merge(df_esfera, on='Esfera Administrativa', how='inner'))\n",
    "\n",
    "# Seleciona as colunas relevantes para o resultado final\n",
    "df_uc = df_uc[['id_uc', 'Nome da UC', 'Ano de Criacao', 'Area soma biomas',\n",
    "               'Area soma biomas continentais', 'Area Marinha', 'id_bioma',\n",
    "               'id_municipio', 'id_manejo', 'id_esfera']]\n",
    "\n",
    "# Converte as colunas de área para o tipo numérico\n",
    "df_uc[['Area soma biomas', 'Area soma biomas continentais', 'Area Marinha']] = (\n",
    "    df_uc[['Area soma biomas', 'Area soma biomas continentais', 'Area Marinha']]\n",
    "    .apply(pd.to_numeric, errors='coerce')\n",
    "    .astype('float64')\n",
    ")\n"
   ]
  },
  {
   "cell_type": "markdown",
   "id": "9b7f4f3a-2833-4555-b828-75c8732ef62d",
   "metadata": {},
   "source": [
    "### Juntando as tabelas que serão usadas (desnormalização)\n"
   ]
  },
  {
   "cell_type": "code",
   "execution_count": 13,
   "id": "41279620-5af6-4f30-b3d2-26d0d3667007",
   "metadata": {},
   "outputs": [],
   "source": [
    "# Tabela unidade de conservação\n",
    "df_ucons = df_uc \\\n",
    "    .merge(df_bioma, on=\"id_bioma\", how=\"left\") \\\n",
    "    .merge(df_municipio, on=\"id_municipio\", how=\"left\") \\\n",
    "    .merge(df_manejo, on=\"id_manejo\", how=\"left\") \\\n",
    "    .merge(df_esfera, on=\"id_esfera\", how=\"left\")[\n",
    "    ['id_uc', 'Nome da UC', 'Ano de Criacao', 'Area soma biomas',\n",
    "    'Area soma biomas continentais', 'Area Marinha', 'Bioma declarado', 'Cidade',\n",
    "     'Estado', 'Categoria de Manejo', 'Categoria IUCN', 'Plano de Manejo', 'Esfera Administrativa'\n",
    "    ]\n",
    "]\n",
    "\n",
    "# Tabela mutirão de limpeza\n",
    "df_mutiraolimp = df_mutirao \\\n",
    "    .merge(df_municipio, on=\"id_municipio\", how=\"left\") \\\n",
    "    .merge(df_instituicao_organizadora, on=\"id_instituicao_organizadora\", how=\"left\")[\n",
    "    ['id_mutirao',\n",
    "    'Data do mutirão',\n",
    "    'Horário de início',\n",
    "    'Número aproximado de participantes (total)',\n",
    "    'Duração total (coleta + triagem)',\n",
    "    'Nome do local (exemplo: praia de boa viagem)' ,\n",
    "    'Plástico (total)',\n",
    "    'Borracha (total)',\n",
    "    'Madeira (total)',\n",
    "    'Produtos têxteis (total)',\n",
    "    'Papel (total)',\n",
    "    'Metal (total)',\n",
    "    'Vidro (total)',\n",
    "    'Materiais de Pesca (total)',\n",
    "    'Outros Resíduos (total)', 'Cidade', 'Estado', 'Instituição Organizadora', 'Caráter da instituição'\n",
    "    ]\n",
    "]\n"
   ]
  },
  {
   "cell_type": "markdown",
   "id": "e85f7f4d-9665-468f-b42a-dbd051dc0307",
   "metadata": {},
   "source": [
    "## Importando o DuckDB e conectando a um banco"
   ]
  },
  {
   "cell_type": "code",
   "execution_count": 14,
   "id": "fd7c63c8-9d0e-4e45-813c-2d08ddc9122e",
   "metadata": {},
   "outputs": [],
   "source": [
    "import duckdb\n",
    "conn = duckdb.connect('banco_projeto2.duckdb')"
   ]
  },
  {
   "cell_type": "markdown",
   "id": "d3a4ff6e-bc6a-4c47-b03a-21f8c57d91b5",
   "metadata": {},
   "source": [
    "## Criando as tabelas no Banco de Dados"
   ]
  },
  {
   "cell_type": "code",
   "execution_count": 15,
   "id": "9e81655b-80ae-448f-8acb-63f97f4e9b1e",
   "metadata": {},
   "outputs": [
    {
     "data": {
      "text/plain": [
       "<duckdb.duckdb.DuckDBPyConnection at 0x7151a13f3eb0>"
      ]
     },
     "execution_count": 15,
     "metadata": {},
     "output_type": "execute_result"
    }
   ],
   "source": [
    "sql_criacao = '''\n",
    "DROP TABLE IF EXISTS unidade_de_conservacao;\n",
    "DROP TABLE IF EXISTS mutirao_limpeza;\n",
    "\n",
    "CREATE TABLE unidade_de_conservacao (\n",
    "    id_uc INT PRIMARY KEY,\n",
    "    nome TEXT NOT NULL,\n",
    "    ano_de_criacao INT,\n",
    "    area_soma_biomas FLOAT,\n",
    "    area_soma_biomas_continentais FLOAT,\n",
    "    area_marinha FLOAT,\n",
    "    nome_bioma TEXT,\n",
    "    nome_municipio TEXT,\n",
    "    estado TEXT,\n",
    "    categoria_manejo TEXT,\n",
    "    categoria_iucn TEXT,\n",
    "    plano_de_manejo TEXT,\n",
    "    esfera_administrativa TEXT\n",
    ");\n",
    "\n",
    "CREATE TABLE mutirao_limpeza(\n",
    "    id_mutirao INT PRIMARY KEY,\n",
    "    data_do_ocorrido DATE NOT NULL,\n",
    "    horario_de_inicio TIME NOT NULL,\n",
    "    numero_aproximado_de_participantes INT,\n",
    "    duracao_total TIME NOT NULL,\n",
    "    nome_municipio TEXT,\n",
    "    estado TEXT,\n",
    "    nome_local_de_coleta TEXT,\n",
    "    nome_instituicao TEXT,\n",
    "    carater_instituicao TEXT,\n",
    "    plastico INT,\n",
    "    borracha INT,\n",
    "    madeira INT,\n",
    "    produtos_texteis INT,\n",
    "    papel INT,\n",
    "    metal INT,\n",
    "    vidro INT,\n",
    "    materiais_de_pesca INT,\n",
    "    outros_residuos INT\n",
    ");\n",
    "'''\n",
    "\n",
    "conn.execute(sql_criacao)\n"
   ]
  },
  {
   "cell_type": "markdown",
   "id": "8c7c2a38-a419-47e3-be31-ceecbe2867aa",
   "metadata": {},
   "source": [
    "## Populando o Banco de Dados com os Dataframes"
   ]
  },
  {
   "cell_type": "code",
   "execution_count": 16,
   "id": "d50c6c05-002f-42a7-97f1-a35d4cc2c436",
   "metadata": {},
   "outputs": [
    {
     "data": {
      "text/plain": [
       "<duckdb.duckdb.DuckDBPyConnection at 0x7151a13f3eb0>"
      ]
     },
     "execution_count": 16,
     "metadata": {},
     "output_type": "execute_result"
    }
   ],
   "source": [
    "# populando a tabela unidade de conservacao\n",
    "uc_rename = {\n",
    "    'Nome da UC': 'nome',\n",
    "    'Ano de Criacao': 'ano_de_criacao',\n",
    "    'Area soma biomas': 'area_soma_biomas',\n",
    "    'Area soma biomas continentais': 'area_soma_biomas_continentais',\n",
    "    'Area Marinha': 'area_marinha',\n",
    "    'Bioma declarado': 'nome_bioma',\n",
    "    'Cidade': 'nome_municipio',\n",
    "    'Estado': 'estado',\n",
    "    'Categoria de Manejo': 'categoria_manejo',\n",
    "    'Categoria IUCN': 'categoria_iucn',\n",
    "    'Plano de Manejo': 'plano_de_manejo',\n",
    "    'Esfera Administrativa': 'esfera_administrativa'\n",
    "}\n",
    "df_uc_para_inserir = df_ucons.rename(columns=uc_rename)\n",
    "conn.execute(\"DELETE FROM unidade_de_conservacao\")\n",
    "conn.execute(\"INSERT INTO unidade_de_conservacao SELECT * FROM df_uc_para_inserir\")\n",
    "\n",
    "\n",
    "# populando a tabela mutirao limpeza\n",
    "mutirao_rename = {\n",
    "    'Data do mutirão': 'data_do_ocorrido',\n",
    "    'Horário de início': 'horario_de_inicio',\n",
    "    'Número aproximado de participantes (total)': 'numero_aproximado_de_participantes',\n",
    "    'Duração total (coleta + triagem)': 'duracao_total',\n",
    "    'Cidade': 'nome_municipio',\n",
    "    'Estado': 'estado',\n",
    "    'Nome do local (exemplo: praia de boa viagem)': 'nome_local_de_coleta',\n",
    "    'Instituição Organizadora': 'nome_instituicao',\n",
    "    'Caráter da instituição': 'carater_instituicao',\n",
    "    'Plástico (total)': 'plastico',\n",
    "    'Borracha (total)': 'borracha',\n",
    "    'Madeira (total)': 'madeira',\n",
    "    'Produtos têxteis (total)': 'produtos_texteis',\n",
    "    'Papel (total)': 'papel',\n",
    "    'Metal (total)': 'metal',\n",
    "    'Vidro (total)': 'vidro',\n",
    "    'Materiais de Pesca (total)': 'materiais_de_pesca',\n",
    "    'Outros Resíduos (total)': 'outros_residuos'\n",
    "}\n",
    "\n",
    "df_mutirao_para_inserir = df_mutiraolimp.rename(columns=mutirao_rename)\n",
    "df_mutirao_para_inserir['data_do_ocorrido'] = pd.to_datetime(df_mutirao_para_inserir['data_do_ocorrido'], dayfirst=True)\n",
    "ordem_colunas_mutirao = [\n",
    "    'id_mutirao', 'data_do_ocorrido', 'horario_de_inicio', 'numero_aproximado_de_participantes',\n",
    "    'duracao_total', 'nome_municipio', 'estado', 'nome_local_de_coleta', 'nome_instituicao',\n",
    "    'carater_instituicao', 'plastico', 'borracha', 'madeira', 'produtos_texteis', 'papel',\n",
    "    'metal', 'vidro', 'materiais_de_pesca', 'outros_residuos'\n",
    "]\n",
    "df_mutirao_para_inserir = df_mutirao_para_inserir[ordem_colunas_mutirao]\n",
    "conn.execute(\"DELETE FROM mutirao_limpeza\")\n",
    "conn.execute(\"INSERT INTO mutirao_limpeza SELECT * FROM df_mutirao_para_inserir\")\n",
    "\n",
    "conn.commit()"
   ]
  },
  {
   "cell_type": "markdown",
   "id": "029ee3e0-d75c-4a1d-a913-0ec2dbb5d217",
   "metadata": {},
   "source": [
    "## Query 1  -  Proporção de Unidades de Conservação vs. Lixo Extraído por Cidade em Mutirões de Limpeza"
   ]
  },
  {
   "cell_type": "markdown",
   "id": "a9907747-86d0-490a-856b-4119cf50703d",
   "metadata": {},
   "source": [
    "Esta query analisa a relação entre a presença de unidades de conservação ambiental e a quantidade de lixo coletado em mutirões de limpeza por cidade. O objetivo é entender se áreas com mais proteção ambiental tendem a gerar menos resíduos ou se há outras correlações relevantes."
   ]
  },
  {
   "cell_type": "code",
   "execution_count": 26,
   "id": "319361fe-d8f0-4d96-af00-1df672568b7e",
   "metadata": {},
   "outputs": [],
   "source": [
    "query_1 = '''\n",
    "    SELECT\n",
    "    \tcidade_uc, COUNT(nome_uc) AS qtd_uc, SUM(lixo_total) AS lixo_total_municipio\n",
    "    FROM (\n",
    "    \tSELECT\n",
    "    \t\t\"unidade_de_conservacao\".nome_municipio AS cidade_uc,\n",
    "    \t\t\"unidade_de_conservacao\".nome AS nome_uc,\n",
    "    \t\t\"mutirao_limpeza\".nome_municipio AS cidade_ml,\n",
    "    \t\t\"mutirao_limpeza\".id_mutirao,\n",
    "    \t\t(\"mutirao_limpeza\".plastico + \"mutirao_limpeza\".borracha + \"mutirao_limpeza\".madeira +\n",
    "            \"mutirao_limpeza\".produtos_texteis + \"mutirao_limpeza\".papel + \"mutirao_limpeza\".metal + \n",
    "            \"mutirao_limpeza\".vidro + \"mutirao_limpeza\".materiais_de_pesca + \"mutirao_limpeza\".outros_residuos) AS lixo_total\n",
    "    \tFROM\n",
    "    \t\t\"unidade_de_conservacao\"\n",
    "    \tJOIN \"mutirao_limpeza\" ON \"mutirao_limpeza\".nome_municipio = \"unidade_de_conservacao\".nome_municipio\n",
    "    ) AS new_query\n",
    "    GROUP BY cidade_uc\n",
    "    ORDER BY qtd_uc\n",
    "'''\n",
    "query_1_resultado = conn.execute(query_1).fetchdf()"
   ]
  },
  {
   "cell_type": "markdown",
   "id": "656e39c0-e376-4439-92f0-24f56c4952f7",
   "metadata": {},
   "source": [
    "## Query 2 - Proporção de Lixo Extraído vs. Unidades de Conservação por Estado"
   ]
  },
  {
   "cell_type": "markdown",
   "id": "f3897812-7ec8-4c41-bf7e-b97087019922",
   "metadata": {},
   "source": [
    "Esta query compara a quantidade de lixo coletado em mutirões de limpeza com o número de unidades de conservação em cada estado. O objetivo é identificar se estados com mais áreas protegidas têm menor volume de resíduos ou se há padrões distintos na geração de lixo."
   ]
  },
  {
   "cell_type": "code",
   "execution_count": 25,
   "id": "78c7cd91-7769-4536-8b60-a1be45fd37d9",
   "metadata": {},
   "outputs": [],
   "source": [
    "query_2 = '''\n",
    "    SELECT\n",
    "    \testado, COUNT(nome_uc) AS qtd_uc, SUM(lixo_total) AS lixo_total_estado\n",
    "    FROM (\n",
    "    \tSELECT\n",
    "    \t\t\"mutirao_limpeza\".id_mutirao,\n",
    "    \t\t\"mutirao_limpeza\".estado AS estado,\n",
    "    \t\t\"unidade_de_conservacao\".nome AS nome_uc,\n",
    "    \t\t\"mutirao_limpeza\".nome_municipio AS cidade_ml,\n",
    "    \t\t\"mutirao_limpeza\".id_mutirao,\n",
    "    \t\t(\"mutirao_limpeza\".plastico + \"mutirao_limpeza\".borracha + \"mutirao_limpeza\".madeira +\n",
    "            \"mutirao_limpeza\".produtos_texteis + \"mutirao_limpeza\".papel + \"mutirao_limpeza\".metal + \n",
    "            \"mutirao_limpeza\".vidro + \"mutirao_limpeza\".materiais_de_pesca + \"mutirao_limpeza\".outros_residuos) AS lixo_total\n",
    "    \tFROM\n",
    "    \t\t\"unidade_de_conservacao\"\n",
    "    \tJOIN \"mutirao_limpeza\" ON \"mutirao_limpeza\".nome_municipio = \"unidade_de_conservacao\".nome_municipio\n",
    "    ) AS new_query\n",
    "    GROUP BY estado\n",
    "    ORDER BY lixo_total_estado;\n",
    "'''\n",
    "query_2_resultado = conn.execute(query_2).fetchdf()"
   ]
  },
  {
   "cell_type": "markdown",
   "id": "19c43b4a-ed7e-416a-ab51-916241b652c2",
   "metadata": {},
   "source": [
    "## Query 3 - Análise de Resíduos por Bioma em Mutirões de Limpeza"
   ]
  },
  {
   "cell_type": "markdown",
   "id": "3cc4cf81-eb3c-427a-8d1e-ca1746ce882c",
   "metadata": {},
   "source": [
    "Esta query avalia a distribuição de tipos e quantidades de lixo coletado em mutirões de limpeza, segmentado por biomas brasileiros. O objetivo é identificar padrões de descarte e potencial impacto ambiental em diferentes ecossistemas."
   ]
  },
  {
   "cell_type": "code",
   "execution_count": 24,
   "id": "8a0aaf54-e53a-4434-a95a-4fe4b0422823",
   "metadata": {},
   "outputs": [],
   "source": [
    "query_3 = '''\n",
    "    SELECT (plastico_total + madeira_total + borracha_total + produtos_texteis_total + papel_total + metal_total +\n",
    "\t   vidro_total + materiais_de_pesca_total + outros_residuos_total) AS qtd_lixo_total, *\n",
    "    FROM(\n",
    "    \tSELECT u.nome_bioma AS bioma_declarado, COUNT(u.nome_municipio) AS cidades_total, SUM(plastico) AS plastico_total, SUM(madeira) AS madeira_total,\n",
    "    \t       SUM(borracha) AS borracha_total, SUM(produtos_texteis) AS produtos_texteis_total,\n",
    "    \t\t   SUM(papel) AS papel_total, SUM(metal) AS metal_total, SUM(vidro) AS vidro_total, SUM(materiais_de_pesca) AS materiais_de_pesca_total,\n",
    "    \t\t   SUM(outros_residuos) AS outros_residuos_total\n",
    "    \tFROM \"mutirao_limpeza\" AS m\n",
    "        JOIN \"unidade_de_conservacao\" AS u ON m.nome_municipio = u.nome_municipio\n",
    "    \tGROUP BY nome_bioma\n",
    "    )\n",
    "ORDER BY qtd_lixo_total\n",
    "'''\n",
    "query_3_resultado = conn.execute(query_3).fetchdf()"
   ]
  },
  {
   "cell_type": "markdown",
   "id": "effa4dbf-1638-4962-93de-77bef97cd4b7",
   "metadata": {},
   "source": [
    "## Query 4 - Eficiência das Instituições Organizadoras por Natureza (Público vs. Privado)"
   ]
  },
  {
   "cell_type": "markdown",
   "id": "72b90b22-6e70-4da0-b3a7-b99d1cfa97a3",
   "metadata": {},
   "source": [
    "Esta query avalia o desempenho de instituições organizadoras de mutirões de limpeza, categorizadas por seu caráter (público, privado, ONG, etc.), com base no volume total de resíduos coletados. O objetivo é identificar quais tipos de organizações têm maior impacto nas ações de limpeza."
   ]
  },
  {
   "cell_type": "code",
   "execution_count": 23,
   "id": "6eb17d42-285b-456c-98de-a9d47b1a2c55",
   "metadata": {},
   "outputs": [],
   "source": [
    "query_4 = '''\n",
    "    SELECT \n",
    "        carater_instituicao AS carater_da_instituicao, COUNT(id_mutirao) AS qtd_mutiroes, \n",
    "        SUM(plastico + borracha + madeira + produtos_texteis + papel + metal + vidro + materiais_de_pesca + outros_residuos) AS lixo_total\n",
    "    FROM \n",
    "        \"mutirao_limpeza\"\n",
    "    GROUP BY \n",
    "        carater_instituicao\n",
    "    ORDER BY \n",
    "        lixo_total;\n",
    "'''\n",
    "query_4_resultado = conn.execute(query_4).fetchdf()"
   ]
  },
  {
   "cell_type": "markdown",
   "id": "f1045f9f-05f3-4366-8c79-4453ce6e279a",
   "metadata": {},
   "source": [
    "## Query 5 - Análise de Eficiência dos Mutirões de Limpeza por Ano"
   ]
  },
  {
   "cell_type": "markdown",
   "id": "ac6542e1-7082-473c-9506-32e4867d7a5b",
   "metadata": {},
   "source": [
    "Esta query avalia a eficiência dos mutirões de limpeza em um ano específico, com métricas como:\n",
    "\n",
    "- Volume total de resíduos coletados\n",
    "\n",
    "- Produtividade por participante\n",
    "\n",
    "- Intensidade da coleta (lixo por minuto)\n",
    "\n",
    "- Comparativo entre meses/estações do ano"
   ]
  },
  {
   "cell_type": "code",
   "execution_count": 22,
   "id": "1780b988-3994-49d4-a49c-339db8d5b86a",
   "metadata": {},
   "outputs": [],
   "source": [
    "query_5 = '''\n",
    "    SELECT \n",
    "        *, (lixo_total_ano / participantes_no_ano) AS lixo_extraido_por_pessoa, (lixo_total_ano / (total_segundos_mutirao / 60.0)) AS lixo_extraido_por_minuto\n",
    "    FROM (\n",
    "        SELECT \n",
    "            EXTRACT(YEAR FROM data_do_ocorrido) AS ano,\n",
    "            SUM(numero_aproximado_de_participantes) AS participantes_no_ano,\n",
    "            SUM(EXTRACT(EPOCH FROM duracao_total)) AS total_segundos_mutirao,\n",
    "            COUNT(nome_municipio) AS total_municipios_participantes,\n",
    "            SUM(plastico) AS plastico_total,\n",
    "            SUM(borracha) AS borracha_total,\n",
    "            SUM(madeira) AS madeira_total,\n",
    "            SUM(produtos_texteis) AS produtos_texteis_total,\n",
    "            SUM(papel) AS papel_total,\n",
    "            SUM(metal) AS metal_total,\n",
    "            SUM(vidro) AS vidro_total,\n",
    "            SUM(materiais_de_pesca) AS materiais_de_pesca_total,\n",
    "            SUM(outros_residuos) AS outros_residuos_total,\n",
    "            SUM(plastico + borracha + madeira + produtos_texteis + papel + metal + vidro + materiais_de_pesca + outros_residuos) AS lixo_total_ano\n",
    "        FROM \n",
    "            mutirao_limpeza \n",
    "        GROUP BY \n",
    "            ano\n",
    "        ORDER BY \n",
    "            ano\n",
    "    )\n",
    "'''\n",
    "query_5_resultado = conn.execute(query_5).fetchdf()"
   ]
  }
 ],
 "metadata": {
  "kernelspec": {
   "display_name": "Python 3 (ipykernel)",
   "language": "python",
   "name": "python3"
  },
  "language_info": {
   "codemirror_mode": {
    "name": "ipython",
    "version": 3
   },
   "file_extension": ".py",
   "mimetype": "text/x-python",
   "name": "python",
   "nbconvert_exporter": "python",
   "pygments_lexer": "ipython3",
   "version": "3.10.12"
  }
 },
 "nbformat": 4,
 "nbformat_minor": 5
}
