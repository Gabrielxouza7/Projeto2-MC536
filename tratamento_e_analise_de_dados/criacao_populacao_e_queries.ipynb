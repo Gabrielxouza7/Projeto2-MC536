{
 "cells": [
  {
   "cell_type": "markdown",
   "id": "e85f7f4d-9665-468f-b42a-dbd051dc0307",
   "metadata": {},
   "source": [
    "## Importando o DuckDB e conectando a um banco"
   ]
  },
  {
   "cell_type": "code",
   "execution_count": 14,
   "id": "fd7c63c8-9d0e-4e45-813c-2d08ddc9122e",
   "metadata": {},
   "outputs": [],
   "source": [
    "import duckdb\n",
    "conn = duckdb.connect('banco_projeto2.duckdb')"
   ]
  },
  {
   "cell_type": "markdown",
   "id": "d3a4ff6e-bc6a-4c47-b03a-21f8c57d91b5",
   "metadata": {},
   "source": [
    "## Criando as tabelas no Banco de Dados"
   ]
  },
  {
   "cell_type": "code",
   "execution_count": 15,
   "id": "9e81655b-80ae-448f-8acb-63f97f4e9b1e",
   "metadata": {},
   "outputs": [
    {
     "data": {
      "text/plain": [
       "<duckdb.duckdb.DuckDBPyConnection at 0x7151a13f3eb0>"
      ]
     },
     "execution_count": 15,
     "metadata": {},
     "output_type": "execute_result"
    }
   ],
   "source": [
    "sql_criacao = '''\n",
    "DROP TABLE IF EXISTS unidade_de_conservacao;\n",
    "DROP TABLE IF EXISTS mutirao_limpeza;\n",
    "\n",
    "CREATE TABLE unidade_de_conservacao (\n",
    "    id_uc INT PRIMARY KEY,\n",
    "    nome TEXT NOT NULL,\n",
    "    ano_de_criacao INT,\n",
    "    area_soma_biomas FLOAT,\n",
    "    area_soma_biomas_continentais FLOAT,\n",
    "    area_marinha FLOAT,\n",
    "    nome_bioma TEXT,\n",
    "    nome_municipio TEXT,\n",
    "    estado TEXT,\n",
    "    categoria_manejo TEXT,\n",
    "    categoria_iucn TEXT,\n",
    "    plano_de_manejo TEXT,\n",
    "    esfera_administrativa TEXT\n",
    ");\n",
    "\n",
    "CREATE TABLE mutirao_limpeza(\n",
    "    id_mutirao INT PRIMARY KEY,\n",
    "    data_do_ocorrido DATE NOT NULL,\n",
    "    horario_de_inicio TIME NOT NULL,\n",
    "    numero_aproximado_de_participantes INT,\n",
    "    duracao_total TIME NOT NULL,\n",
    "    nome_municipio TEXT,\n",
    "    estado TEXT,\n",
    "    nome_local_de_coleta TEXT,\n",
    "    nome_instituicao TEXT,\n",
    "    carater_instituicao TEXT,\n",
    "    plastico INT,\n",
    "    borracha INT,\n",
    "    madeira INT,\n",
    "    produtos_texteis INT,\n",
    "    papel INT,\n",
    "    metal INT,\n",
    "    vidro INT,\n",
    "    materiais_de_pesca INT,\n",
    "    outros_residuos INT\n",
    ");\n",
    "'''\n",
    "\n",
    "conn.execute(sql_criacao)\n"
   ]
  },
  {
   "cell_type": "markdown",
   "id": "8c7c2a38-a419-47e3-be31-ceecbe2867aa",
   "metadata": {},
   "source": [
    "## Populando o Banco de Dados com os Dataframes"
   ]
  },
  {
   "cell_type": "code",
   "execution_count": 16,
   "id": "d50c6c05-002f-42a7-97f1-a35d4cc2c436",
   "metadata": {},
   "outputs": [
    {
     "data": {
      "text/plain": [
       "<duckdb.duckdb.DuckDBPyConnection at 0x7151a13f3eb0>"
      ]
     },
     "execution_count": 16,
     "metadata": {},
     "output_type": "execute_result"
    }
   ],
   "source": [
    "# populando a tabela unidade de conservacao\n",
    "uc_rename = {\n",
    "    'Nome da UC': 'nome',\n",
    "    'Ano de Criacao': 'ano_de_criacao',\n",
    "    'Area soma biomas': 'area_soma_biomas',\n",
    "    'Area soma biomas continentais': 'area_soma_biomas_continentais',\n",
    "    'Area Marinha': 'area_marinha',\n",
    "    'Bioma declarado': 'nome_bioma',\n",
    "    'Cidade': 'nome_municipio',\n",
    "    'Estado': 'estado',\n",
    "    'Categoria de Manejo': 'categoria_manejo',\n",
    "    'Categoria IUCN': 'categoria_iucn',\n",
    "    'Plano de Manejo': 'plano_de_manejo',\n",
    "    'Esfera Administrativa': 'esfera_administrativa'\n",
    "}\n",
    "df_uc_para_inserir = df_ucons.rename(columns=uc_rename)\n",
    "conn.execute(\"DELETE FROM unidade_de_conservacao\")\n",
    "conn.execute(\"INSERT INTO unidade_de_conservacao SELECT * FROM df_uc_para_inserir\")\n",
    "\n",
    "\n",
    "# populando a tabela mutirao limpeza\n",
    "mutirao_rename = {\n",
    "    'Data do mutirão': 'data_do_ocorrido',\n",
    "    'Horário de início': 'horario_de_inicio',\n",
    "    'Número aproximado de participantes (total)': 'numero_aproximado_de_participantes',\n",
    "    'Duração total (coleta + triagem)': 'duracao_total',\n",
    "    'Cidade': 'nome_municipio',\n",
    "    'Estado': 'estado',\n",
    "    'Nome do local (exemplo: praia de boa viagem)': 'nome_local_de_coleta',\n",
    "    'Instituição Organizadora': 'nome_instituicao',\n",
    "    'Caráter da instituição': 'carater_instituicao',\n",
    "    'Plástico (total)': 'plastico',\n",
    "    'Borracha (total)': 'borracha',\n",
    "    'Madeira (total)': 'madeira',\n",
    "    'Produtos têxteis (total)': 'produtos_texteis',\n",
    "    'Papel (total)': 'papel',\n",
    "    'Metal (total)': 'metal',\n",
    "    'Vidro (total)': 'vidro',\n",
    "    'Materiais de Pesca (total)': 'materiais_de_pesca',\n",
    "    'Outros Resíduos (total)': 'outros_residuos'\n",
    "}\n",
    "\n",
    "df_mutirao_para_inserir = df_mutiraolimp.rename(columns=mutirao_rename)\n",
    "df_mutirao_para_inserir['data_do_ocorrido'] = pd.to_datetime(df_mutirao_para_inserir['data_do_ocorrido'], dayfirst=True)\n",
    "ordem_colunas_mutirao = [\n",
    "    'id_mutirao', 'data_do_ocorrido', 'horario_de_inicio', 'numero_aproximado_de_participantes',\n",
    "    'duracao_total', 'nome_municipio', 'estado', 'nome_local_de_coleta', 'nome_instituicao',\n",
    "    'carater_instituicao', 'plastico', 'borracha', 'madeira', 'produtos_texteis', 'papel',\n",
    "    'metal', 'vidro', 'materiais_de_pesca', 'outros_residuos'\n",
    "]\n",
    "df_mutirao_para_inserir = df_mutirao_para_inserir[ordem_colunas_mutirao]\n",
    "conn.execute(\"DELETE FROM mutirao_limpeza\")\n",
    "conn.execute(\"INSERT INTO mutirao_limpeza SELECT * FROM df_mutirao_para_inserir\")\n",
    "\n",
    "conn.commit()"
   ]
  },
  {
   "cell_type": "markdown",
   "id": "029ee3e0-d75c-4a1d-a913-0ec2dbb5d217",
   "metadata": {},
   "source": [
    "## Query 1  -  Proporção de Unidades de Conservação vs. Lixo Extraído por Cidade em Mutirões de Limpeza"
   ]
  },
  {
   "cell_type": "markdown",
   "id": "a9907747-86d0-490a-856b-4119cf50703d",
   "metadata": {},
   "source": [
    "Esta query analisa a relação entre a presença de unidades de conservação ambiental e a quantidade de lixo coletado em mutirões de limpeza por cidade. O objetivo é entender se áreas com mais proteção ambiental tendem a gerar menos resíduos ou se há outras correlações relevantes."
   ]
  },
  {
   "cell_type": "code",
   "execution_count": 26,
   "id": "319361fe-d8f0-4d96-af00-1df672568b7e",
   "metadata": {},
   "outputs": [],
   "source": [
    "query_1 = '''\n",
    "    SELECT\n",
    "    \tcidade_uc, COUNT(nome_uc) AS qtd_uc, SUM(lixo_total) AS lixo_total_municipio\n",
    "    FROM (\n",
    "    \tSELECT\n",
    "    \t\t\"unidade_de_conservacao\".nome_municipio AS cidade_uc,\n",
    "    \t\t\"unidade_de_conservacao\".nome AS nome_uc,\n",
    "    \t\t\"mutirao_limpeza\".nome_municipio AS cidade_ml,\n",
    "    \t\t\"mutirao_limpeza\".id_mutirao,\n",
    "    \t\t(\"mutirao_limpeza\".plastico + \"mutirao_limpeza\".borracha + \"mutirao_limpeza\".madeira +\n",
    "            \"mutirao_limpeza\".produtos_texteis + \"mutirao_limpeza\".papel + \"mutirao_limpeza\".metal + \n",
    "            \"mutirao_limpeza\".vidro + \"mutirao_limpeza\".materiais_de_pesca + \"mutirao_limpeza\".outros_residuos) AS lixo_total\n",
    "    \tFROM\n",
    "    \t\t\"unidade_de_conservacao\"\n",
    "    \tJOIN \"mutirao_limpeza\" ON \"mutirao_limpeza\".nome_municipio = \"unidade_de_conservacao\".nome_municipio\n",
    "    ) AS new_query\n",
    "    GROUP BY cidade_uc\n",
    "    ORDER BY qtd_uc\n",
    "'''\n",
    "query_1_resultado = conn.execute(query_1).fetchdf()"
   ]
  },
  {
   "cell_type": "markdown",
   "id": "656e39c0-e376-4439-92f0-24f56c4952f7",
   "metadata": {},
   "source": [
    "## Query 2 - Proporção de Lixo Extraído vs. Unidades de Conservação por Estado"
   ]
  },
  {
   "cell_type": "markdown",
   "id": "f3897812-7ec8-4c41-bf7e-b97087019922",
   "metadata": {},
   "source": [
    "Esta query compara a quantidade de lixo coletado em mutirões de limpeza com o número de unidades de conservação em cada estado. O objetivo é identificar se estados com mais áreas protegidas têm menor volume de resíduos ou se há padrões distintos na geração de lixo."
   ]
  },
  {
   "cell_type": "code",
   "execution_count": 25,
   "id": "78c7cd91-7769-4536-8b60-a1be45fd37d9",
   "metadata": {},
   "outputs": [],
   "source": [
    "query_2 = '''\n",
    "    SELECT\n",
    "    \testado, COUNT(nome_uc) AS qtd_uc, SUM(lixo_total) AS lixo_total_estado\n",
    "    FROM (\n",
    "    \tSELECT\n",
    "    \t\t\"mutirao_limpeza\".id_mutirao,\n",
    "    \t\t\"mutirao_limpeza\".estado AS estado,\n",
    "    \t\t\"unidade_de_conservacao\".nome AS nome_uc,\n",
    "    \t\t\"mutirao_limpeza\".nome_municipio AS cidade_ml,\n",
    "    \t\t\"mutirao_limpeza\".id_mutirao,\n",
    "    \t\t(\"mutirao_limpeza\".plastico + \"mutirao_limpeza\".borracha + \"mutirao_limpeza\".madeira +\n",
    "            \"mutirao_limpeza\".produtos_texteis + \"mutirao_limpeza\".papel + \"mutirao_limpeza\".metal + \n",
    "            \"mutirao_limpeza\".vidro + \"mutirao_limpeza\".materiais_de_pesca + \"mutirao_limpeza\".outros_residuos) AS lixo_total\n",
    "    \tFROM\n",
    "    \t\t\"unidade_de_conservacao\"\n",
    "    \tJOIN \"mutirao_limpeza\" ON \"mutirao_limpeza\".nome_municipio = \"unidade_de_conservacao\".nome_municipio\n",
    "    ) AS new_query\n",
    "    GROUP BY estado\n",
    "    ORDER BY lixo_total_estado;\n",
    "'''\n",
    "query_2_resultado = conn.execute(query_2).fetchdf()"
   ]
  },
  {
   "cell_type": "markdown",
   "id": "19c43b4a-ed7e-416a-ab51-916241b652c2",
   "metadata": {},
   "source": [
    "## Query 3 - Análise de Resíduos por Bioma em Mutirões de Limpeza"
   ]
  },
  {
   "cell_type": "markdown",
   "id": "3cc4cf81-eb3c-427a-8d1e-ca1746ce882c",
   "metadata": {},
   "source": [
    "Esta query avalia a distribuição de tipos e quantidades de lixo coletado em mutirões de limpeza, segmentado por biomas brasileiros. O objetivo é identificar padrões de descarte e potencial impacto ambiental em diferentes ecossistemas."
   ]
  },
  {
   "cell_type": "code",
   "execution_count": 24,
   "id": "8a0aaf54-e53a-4434-a95a-4fe4b0422823",
   "metadata": {},
   "outputs": [],
   "source": [
    "query_3 = '''\n",
    "    SELECT (plastico_total + madeira_total + borracha_total + produtos_texteis_total + papel_total + metal_total +\n",
    "\t   vidro_total + materiais_de_pesca_total + outros_residuos_total) AS qtd_lixo_total, *\n",
    "    FROM(\n",
    "    \tSELECT u.nome_bioma AS bioma_declarado, COUNT(u.nome_municipio) AS cidades_total, SUM(plastico) AS plastico_total, SUM(madeira) AS madeira_total,\n",
    "    \t       SUM(borracha) AS borracha_total, SUM(produtos_texteis) AS produtos_texteis_total,\n",
    "    \t\t   SUM(papel) AS papel_total, SUM(metal) AS metal_total, SUM(vidro) AS vidro_total, SUM(materiais_de_pesca) AS materiais_de_pesca_total,\n",
    "    \t\t   SUM(outros_residuos) AS outros_residuos_total\n",
    "    \tFROM \"mutirao_limpeza\" AS m\n",
    "        JOIN \"unidade_de_conservacao\" AS u ON m.nome_municipio = u.nome_municipio\n",
    "    \tGROUP BY nome_bioma\n",
    "    )\n",
    "ORDER BY qtd_lixo_total\n",
    "'''\n",
    "query_3_resultado = conn.execute(query_3).fetchdf()"
   ]
  },
  {
   "cell_type": "markdown",
   "id": "effa4dbf-1638-4962-93de-77bef97cd4b7",
   "metadata": {},
   "source": [
    "## Query 4 - Eficiência das Instituições Organizadoras por Natureza (Público vs. Privado)"
   ]
  },
  {
   "cell_type": "markdown",
   "id": "72b90b22-6e70-4da0-b3a7-b99d1cfa97a3",
   "metadata": {},
   "source": [
    "Esta query avalia o desempenho de instituições organizadoras de mutirões de limpeza, categorizadas por seu caráter (público, privado, ONG, etc.), com base no volume total de resíduos coletados. O objetivo é identificar quais tipos de organizações têm maior impacto nas ações de limpeza."
   ]
  },
  {
   "cell_type": "code",
   "execution_count": 23,
   "id": "6eb17d42-285b-456c-98de-a9d47b1a2c55",
   "metadata": {},
   "outputs": [],
   "source": [
    "query_4 = '''\n",
    "    SELECT \n",
    "        carater_instituicao AS carater_da_instituicao, COUNT(id_mutirao) AS qtd_mutiroes, \n",
    "        SUM(plastico + borracha + madeira + produtos_texteis + papel + metal + vidro + materiais_de_pesca + outros_residuos) AS lixo_total\n",
    "    FROM \n",
    "        \"mutirao_limpeza\"\n",
    "    GROUP BY \n",
    "        carater_instituicao\n",
    "    ORDER BY \n",
    "        lixo_total;\n",
    "'''\n",
    "query_4_resultado = conn.execute(query_4).fetchdf()"
   ]
  },
  {
   "cell_type": "markdown",
   "id": "f1045f9f-05f3-4366-8c79-4453ce6e279a",
   "metadata": {},
   "source": [
    "## Query 5 - Análise de Eficiência dos Mutirões de Limpeza por Ano"
   ]
  },
  {
   "cell_type": "markdown",
   "id": "ac6542e1-7082-473c-9506-32e4867d7a5b",
   "metadata": {},
   "source": [
    "Esta query avalia a eficiência dos mutirões de limpeza em um ano específico, com métricas como:\n",
    "\n",
    "- Volume total de resíduos coletados\n",
    "\n",
    "- Produtividade por participante\n",
    "\n",
    "- Intensidade da coleta (lixo por minuto)\n",
    "\n",
    "- Comparativo entre meses/estações do ano"
   ]
  },
  {
   "cell_type": "code",
   "execution_count": 22,
   "id": "1780b988-3994-49d4-a49c-339db8d5b86a",
   "metadata": {},
   "outputs": [],
   "source": [
    "query_5 = '''\n",
    "    SELECT \n",
    "        *, (lixo_total_ano / participantes_no_ano) AS lixo_extraido_por_pessoa, (lixo_total_ano / (total_segundos_mutirao / 60.0)) AS lixo_extraido_por_minuto\n",
    "    FROM (\n",
    "        SELECT \n",
    "            EXTRACT(YEAR FROM data_do_ocorrido) AS ano,\n",
    "            SUM(numero_aproximado_de_participantes) AS participantes_no_ano,\n",
    "            SUM(EXTRACT(EPOCH FROM duracao_total)) AS total_segundos_mutirao,\n",
    "            COUNT(nome_municipio) AS total_municipios_participantes,\n",
    "            SUM(plastico) AS plastico_total,\n",
    "            SUM(borracha) AS borracha_total,\n",
    "            SUM(madeira) AS madeira_total,\n",
    "            SUM(produtos_texteis) AS produtos_texteis_total,\n",
    "            SUM(papel) AS papel_total,\n",
    "            SUM(metal) AS metal_total,\n",
    "            SUM(vidro) AS vidro_total,\n",
    "            SUM(materiais_de_pesca) AS materiais_de_pesca_total,\n",
    "            SUM(outros_residuos) AS outros_residuos_total,\n",
    "            SUM(plastico + borracha + madeira + produtos_texteis + papel + metal + vidro + materiais_de_pesca + outros_residuos) AS lixo_total_ano\n",
    "        FROM \n",
    "            mutirao_limpeza \n",
    "        GROUP BY \n",
    "            ano\n",
    "        ORDER BY \n",
    "            ano\n",
    "    )\n",
    "'''\n",
    "query_5_resultado = conn.execute(query_5).fetchdf()"
   ]
  }
 ],
 "metadata": {
  "kernelspec": {
   "display_name": "Python 3 (ipykernel)",
   "language": "python",
   "name": "python3"
  },
  "language_info": {
   "codemirror_mode": {
    "name": "ipython",
    "version": 3
   },
   "file_extension": ".py",
   "mimetype": "text/x-python",
   "name": "python",
   "nbconvert_exporter": "python",
   "pygments_lexer": "ipython3",
   "version": "3.10.12"
  }
 },
 "nbformat": 4,
 "nbformat_minor": 5
}
